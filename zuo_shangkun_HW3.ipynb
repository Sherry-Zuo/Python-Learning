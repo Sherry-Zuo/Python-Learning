{
  "nbformat": 4,
  "nbformat_minor": 0,
  "metadata": {
    "accelerator": "GPU",
    "colab": {
      "name": "zuo_shangkun_HW3.ipynb",
      "provenance": [],
      "collapsed_sections": []
    },
    "kernelspec": {
      "name": "python3",
      "display_name": "Python 3"
    },
    "language_info": {
      "codemirror_mode": {
        "name": "ipython",
        "version": 3
      },
      "file_extension": ".py",
      "mimetype": "text/x-python",
      "name": "python",
      "nbconvert_exporter": "python",
      "pygments_lexer": "ipython3",
      "version": "3.7.3"
    }
  },
  "cells": [
    {
      "cell_type": "markdown",
      "metadata": {
        "colab_type": "text",
        "id": "fDEQjuu_iJ3g"
      },
      "source": [
        "# HW 03 - Create a word2vec model"
      ]
    },
    {
      "cell_type": "markdown",
      "metadata": {
        "colab_type": "text",
        "id": "bRrPQL2diJ3j"
      },
      "source": [
        "<font color=blue size=4>\n",
        "Before you submit this assignment, please carefully read these submission instructions. You must name this .ipynb file:\n",
        "<br><br>\n",
        "yourlastname_yourfirstname_HW3.ipynb\n",
        "<br><br>\n",
        "You must turn in this assignment by uploading the \n",
        ".ipynb file to the assignment on questrom tools. You will also need to print out a hard copy of this notebook (File->Print from colab) with the output from running all the code cells, and hand it in on the class following the due date. Do not email me the file.\n",
        "<br><br>\n",
        "Points will be deducted for improper submission!\n",
        "</font>\n",
        "\n",
        "For this assignment, we will use Pytorch to create a word2vec model that infers numerical vectors for words that capture their meaning. Word2vec was first introduced in 2013 by Mikolov et al. at Google. Their paper can be found [here](https://arxiv.org/pdf/1301.3781.pdf), though you do not need to read and understand it in order to implement the model. It is a very popular machine learning model that has been implemented to capture the meaning of text for many real world cases. \n",
        "\n",
        "This [blog post](https://blog.acolyer.org/2016/04/21/the-amazing-power-of-word-vectors/) is a great overview of word2vec. Please read it carefully before you create the word2vec model for this assignment. Specifically, you will build a \"Continuous Bag-of-Words Model (CBOW)\" word2vec model. CBOW predicts a focal (target) word from its context (the words surround it). The following Youtube videos also explain the concept of the CBOW model.\n",
        "- https://www.youtube.com/watch?v=UqRCEmrv1gQ\n",
        "- https://www.youtube.com/watch?v=gQddtTdmG_8 \n",
        "\n",
        "\n",
        "<img src=\"https://i2.wp.com/www.stokastik.in/wp-content/uploads/2017/04/Screen-Shot-2017-05-16-at-8.48.52-PM.png?w=596\">\n",
        "\n",
        "[CBOW structure from http://www.stokastik.in/understanding-word-vectors-and-word2vec/]"
      ]
    },
    {
      "cell_type": "markdown",
      "metadata": {
        "colab_type": "text",
        "id": "rayw7XfBiJ3u"
      },
      "source": [
        "Your task is to create a CBOW neural network model class called `CBOW`. `CBOW` has the structure shown above and the following properties:\n",
        "\n",
        "- `vocab_size` - Size of vocabulary($V$). Note that vocabulary is a set of unique words in a corpus (a bunch of text documents).\n",
        "- `embed_dim` - Dimension of the embedding vector\n",
        "- `window_size` - Size of window. If a focal word is at position $t$, then the CBOW model uses embedding vectors of words between ($t$-window_size) and ($t$+window_size) to predict the focal word\n",
        "- `hidden_dim` - Dimension of the hidden layer ($N$)\n",
        "\n",
        "`CBOW` consists of three layers:\n",
        "\n",
        "- `embedding` - An embedding layer that is initialized with `torch.nn.Embedding`\n",
        "- `fc1` - A linear transformation that connects the embedding layer to the hidden layer. `torch.nn.functional.relu` activation should be applied to the output of `fc1`.\n",
        "- `fc2` - A linear transformation that connects the activation of `fc1` to a tensor of length `vocab_size`. \n",
        "\n",
        "The training data (i.e., the features `X`, the labels `y`) that we will use to train the `CBOW` model will be:\n",
        "- `X` will be a tensor of length (2 * `window_size`) containing the indices of all words in the window before and after the focal word. \n",
        "- `y`, (the label that our model is trying to predict) should be a list containing the index of the focal word.\n",
        "\n",
        "Note that a single review in our data will produce multiple items of training data. For example, suppose a single review is:\n",
        "\n",
        " \"the food was not good at all\"\n",
        " \n",
        " If our `window_size` = 2, then this would generate the following (context, focal_word) training data tuples:\n",
        "\n",
        "```python\n",
        "(['the','food','not','good'], ['was']) # 'was' is the focal word\n",
        "(['food','was','good','at'], ['not']) # 'not' is the focal word\n",
        "(['was','not','at','all'],['good']) # 'good' is the focal word\n",
        "```\n",
        "\n",
        "However, we can't directly use these tuples to train our model. First we have to replace each word with a unique integer (its index) and then convert these to pytorch tensors. Note that, we will be using a special embedding layer (`torch.nn.Embedding`) which will convert these indexes to the one-hot vectors that are described in the videos.\n",
        "\n",
        "To get tensors from the original data, you will need to:\n",
        "\n",
        "- Create a list (or `set`) of all unique words in the cleaned text, called `vocab`.\n",
        "- Create a dictionary called `word_to_index` where the key is a word and the value is the index of a word (a unique number for each word). You will have to figure out how to create this dictionary from the cleaned dataset.\n",
        "- Write a function `make_cbow_data` that accepts a single review from cleaned_text as an input and outputs a **list of tuples** where:\n",
        " -  the first part of the tuple contains a tensor of the indices of words in the window before and after each focal word\n",
        " - the second part of the tuple is a tensor containing the index of the focal word.\n",
        " - The dtype of both tensors in the tuple should be `torch.long`.\n",
        " - You will have to figure out how to create multiple tuples of tensors from a single review (an item from `cleaned_text`) using loops \n"
      ]
    },
    {
      "cell_type": "markdown",
      "metadata": {
        "colab_type": "text",
        "id": "P6uzFDXFiJ3v"
      },
      "source": [
        "We will use restaurant customer reviews data for this assignment.\n",
        "\n",
        "**Do not change the code block below**. Below is a function that cleans up the text of a review and returns a list of all the words in the review.\n",
        "\n",
        "You will use `cleaned_text`, which is defined below, to create a training dataset for your `CBOW` model."
      ]
    },
    {
      "cell_type": "code",
      "metadata": {
        "colab_type": "code",
        "id": "SYTmVZStiJ3w",
        "colab": {}
      },
      "source": [
        "# DO NOT CHANGE THIS CODEBLOCK\n",
        "import pandas as pd\n",
        "import string\n",
        "\n",
        "def clean_text(text):    \n",
        "    x = text.translate(str.maketrans('', '', string.punctuation)) # remove punctuation\n",
        "    x = x.lower().split() # lower case and split by whitespace to differentiate words\n",
        "    return x\n",
        "\n",
        "example_text = pd.read_csv('https://raw.githubusercontent.com/dylanwalker/BA865/master/datasets/hw3.csv')\n",
        "cleaned_text = example_text.Review[:100].apply(clean_text)"
      ],
      "execution_count": 0,
      "outputs": []
    },
    {
      "cell_type": "code",
      "metadata": {
        "id": "M3eyvrpk7ZBb",
        "colab_type": "code",
        "outputId": "9113c246-605d-42d9-fb8e-f367dad3050d",
        "colab": {
          "base_uri": "https://localhost:8080/",
          "height": 221
        }
      },
      "source": [
        "cleaned_text"
      ],
      "execution_count": 2,
      "outputs": [
        {
          "output_type": "execute_result",
          "data": {
            "text/plain": [
              "0                             [wow, loved, this, place]\n",
              "1                                [crust, is, not, good]\n",
              "2     [not, tasty, and, the, texture, was, just, nasty]\n",
              "3     [stopped, by, during, the, late, may, bank, ho...\n",
              "4     [the, selection, on, the, menu, was, great, an...\n",
              "                            ...                        \n",
              "95                             [well, never, go, again]\n",
              "96                              [will, be, back, again]\n",
              "97                             [food, arrived, quickly]\n",
              "98                                 [it, was, not, good]\n",
              "99    [on, the, up, side, their, cafe, serves, reall...\n",
              "Name: Review, Length: 100, dtype: object"
            ]
          },
          "metadata": {
            "tags": []
          },
          "execution_count": 2
        }
      ]
    },
    {
      "cell_type": "code",
      "metadata": {
        "id": "-_tlKZTAelSW",
        "colab_type": "code",
        "outputId": "a9d86c35-136f-419e-d82d-56745980ad94",
        "colab": {
          "base_uri": "https://localhost:8080/",
          "height": 221
        }
      },
      "source": [
        "text_with_count=cleaned_text.explode().reset_index(name='word')['word'].drop_duplicates(keep='first')\n",
        "text_with_count"
      ],
      "execution_count": 3,
      "outputs": [
        {
          "output_type": "execute_result",
          "data": {
            "text/plain": [
              "0           wow\n",
              "1         loved\n",
              "2          this\n",
              "3         place\n",
              "4         crust\n",
              "         ...   \n",
              "1031       lady\n",
              "1041    arrived\n",
              "1042    quickly\n",
              "1052       cafe\n",
              "1053     serves\n",
              "Name: word, Length: 483, dtype: object"
            ]
          },
          "metadata": {
            "tags": []
          },
          "execution_count": 3
        }
      ]
    },
    {
      "cell_type": "markdown",
      "metadata": {
        "colab_type": "text",
        "id": "HEl72ZkpTaQ-"
      },
      "source": [
        "## Create a CBOW Class"
      ]
    },
    {
      "cell_type": "markdown",
      "metadata": {
        "id": "WpUT3gC6P3Dh",
        "colab_type": "text"
      },
      "source": [
        "The first step is to create `vocab` and `word_to_index` according to the instructions above."
      ]
    },
    {
      "cell_type": "code",
      "metadata": {
        "colab_type": "code",
        "id": "4QQycg3vFhf8",
        "outputId": "145c71be-eab4-43f7-c57d-f1ef4a3627e0",
        "colab": {
          "base_uri": "https://localhost:8080/",
          "height": 88
        }
      },
      "source": [
        "#Create your vocab here\n",
        "vocab = list(text_with_count)\n",
        "print(vocab)\n",
        "vocab_index=list(range(0,len(vocab)))\n",
        "print(vocab_index)\n",
        "#Create your word_to_index dictionary here\n",
        "word_to_index={vocab[i]: vocab_index[i] for i in range(len(vocab))} \n",
        "print(word_to_index)"
      ],
      "execution_count": 4,
      "outputs": [
        {
          "output_type": "stream",
          "text": [
            "['wow', 'loved', 'this', 'place', 'crust', 'is', 'not', 'good', 'tasty', 'and', 'the', 'texture', 'was', 'just', 'nasty', 'stopped', 'by', 'during', 'late', 'may', 'bank', 'holiday', 'off', 'rick', 'steve', 'recommendation', 'it', 'selection', 'on', 'menu', 'great', 'so', 'were', 'prices', 'now', 'i', 'am', 'getting', 'angry', 'want', 'my', 'damn', 'pho', 'honeslty', 'didnt', 'taste', 'that', 'fresh', 'potatoes', 'like', 'rubber', 'you', 'could', 'tell', 'they', 'had', 'been', 'made', 'up', 'ahead', 'of', 'time', 'being', 'kept', 'under', 'a', 'warmer', 'fries', 'too', 'touch', 'service', 'very', 'prompt', 'would', 'go', 'back', 'cashier', 'no', 'care', 'what', 'ever', 'to', 'say', 'still', 'ended', 'wayyy', 'overpriced', 'tried', 'cape', 'cod', 'ravoli', 'chicken', 'with', 'cranberrymmmm', 'disgusted', 'because', 'pretty', 'sure', 'human', 'hair', 'shocked', 'signs', 'indicate', 'cash', 'only', 'highly', 'recommended', 'waitress', 'little', 'slow', 'in', 'worth', 'your', 'let', 'alone', 'vegas', 'did', 'at', 'all', 'burrittos', 'blah', 'food', 'amazing', 'also', 'cute', 'less', 'interior', 'beautiful', 'performed', 'thats', 'rightthe', 'red', 'velvet', 'cakeohhh', 'stuff', 'name', 'hole', 'wall', 'has', 'mexican', 'street', 'tacos', 'friendly', 'staff', 'took', 'an', 'hour', 'get', 'our', '4', 'tables', 'restaurant', 'luke', 'warm', 'sever', 'running', 'around', 'he', 'totally', 'overwhelmed', 'worst', 'salmon', 'sashimi', 'there', 'are', 'combos', 'burger', 'beer', 'for', '23', 'which', 'decent', 'deal', 'final', 'blow', 'found', 'accident', 'be', 'happier', 'seems', 'quick', 'grab', 'bite', 'some', 'familiar', 'pub', 'but', 'do', 'yourself', 'favor', 'look', 'elsewhere', 'overall', 'lot', 'redeeming', 'quality', 'inexpensive', 'ample', 'portions', 'poor', 'waiter', 'me', 'feel', 'stupid', 'every', 'came', 'table', 'first', 'visit', 'hiro', 'delight', 'sucks', 'shrimp', 'tender', 'moist', 'enough', 'drag', 'into', 'establishment', 'again', 'hard', 'judge', 'whether', 'these', 'sides', 'we', 'grossed', 'out', 'melted', 'styrofoam', 'eat', 'fear', 'sick', 'positive', 'note', 'server', 'attentive', 'provided', 'frozen', 'pucks', 'disgust', 'people', 'behind', 'register', 'thing', 'prime', 'rib', 'dessert', 'section', 'its', 'bad', 'generic', 'beef', 'cooked', 'right', 'if', 'sandwich', 'any', 'firehouse', 'side', 'greek', 'salad', 'dressing', 'pita', 'hummus', 'refreshing', 'ordered', 'duck', 'rare', 'pink', 'inside', 'nice', 'char', 'outside', 'after', 'us', 'when', 'realized', 'husband', 'left', 'his', 'sunglasses', 'their', 'chow', 'mein', 'have', 'horrible', 'attitudes', 'towards', 'customers', 'talk', 'down', 'each', 'one', 'dont', 'enjoy', 'portion', 'huge', 'itfriendly', 'servers', 'wonderful', 'imaginative', 'heart', 'attack', 'grill', 'downtown', 'absolutely', 'flatlined', 'excuse', 'much', 'seafood', '5', 'strings', 'pasta', 'bottom', 'amount', 'sauce', 'over', 'power', 'scallop', 'perfectly', 'ripped', 'banana', 'petrified', 'tasteless', 'least', 'think', 'refill', 'water', 'before', 'struggle', 'wave', '10', 'minutes', 'receives', 'stars', 'appetizers', 'cocktails', 'handmade', 'delicious', 'wed', 'definitely', 'here', 'glad', 'give', 'military', 'discount', 'always', 'dos', 'gringos', 'updatewent', 'second', 'as', 'got', 'apparently', 'never', 'heard', 'salt', 'batter', 'fish', 'chewy', 'way', 'finish', 'included', 'tastings', '2', 'drinks', 'jeff', 'went', 'above', 'beyond', 'expected', 'meh', '30', 'min', 'milkshake', 'nothing', 'more', 'than', 'chocolate', 'milk', 'guess', 'should', 'known', 'suck', 'excalibur', 'use', 'common', 'sense', 'dish', 'quite', 'appalling', 'value', 'well', 'times', 'customer', 'sweet', 'potato', 'seasoned', 'today', 'ive', 'lunch', 'buffet', 'cheated', 'wasting', 'eating', 'opportunity', 'going', 'rice', 'company', 'coming', 'experiencing', 'underwhelming', 'relationship', 'where', 'both', 'parties', 'cant', 'wait', 'other', 'person', 'ask', 'break', 'walked', 'smelled', 'old', 'grease', 'trap', 'others', 'turkey', 'roast', 'bland', 'pan', 'cakes', 'everyone', 'raving', 'about', 'sugary', 'disaster', 'tailored', 'palate', 'six', 'year', 'love', 'spring', 'rolls', 'oh', 'yummy', 'try', 'meat', 'ratio', 'tenders', 'unsatisfying', 'omelets', 'die', 'everything', 'summary', 'largely', 'disappointing', 'dining', 'experience', 'really', 'sexy', 'party', 'mouth', 'youre', 'outrageously', 'flirting', 'hottest', 'rock', 'casino', 'will', 'step', 'forward', 'best', 'breakfast', 'bye', 'tip', 'lady', 'arrived', 'quickly', 'cafe', 'serves']\n",
            "[0, 1, 2, 3, 4, 5, 6, 7, 8, 9, 10, 11, 12, 13, 14, 15, 16, 17, 18, 19, 20, 21, 22, 23, 24, 25, 26, 27, 28, 29, 30, 31, 32, 33, 34, 35, 36, 37, 38, 39, 40, 41, 42, 43, 44, 45, 46, 47, 48, 49, 50, 51, 52, 53, 54, 55, 56, 57, 58, 59, 60, 61, 62, 63, 64, 65, 66, 67, 68, 69, 70, 71, 72, 73, 74, 75, 76, 77, 78, 79, 80, 81, 82, 83, 84, 85, 86, 87, 88, 89, 90, 91, 92, 93, 94, 95, 96, 97, 98, 99, 100, 101, 102, 103, 104, 105, 106, 107, 108, 109, 110, 111, 112, 113, 114, 115, 116, 117, 118, 119, 120, 121, 122, 123, 124, 125, 126, 127, 128, 129, 130, 131, 132, 133, 134, 135, 136, 137, 138, 139, 140, 141, 142, 143, 144, 145, 146, 147, 148, 149, 150, 151, 152, 153, 154, 155, 156, 157, 158, 159, 160, 161, 162, 163, 164, 165, 166, 167, 168, 169, 170, 171, 172, 173, 174, 175, 176, 177, 178, 179, 180, 181, 182, 183, 184, 185, 186, 187, 188, 189, 190, 191, 192, 193, 194, 195, 196, 197, 198, 199, 200, 201, 202, 203, 204, 205, 206, 207, 208, 209, 210, 211, 212, 213, 214, 215, 216, 217, 218, 219, 220, 221, 222, 223, 224, 225, 226, 227, 228, 229, 230, 231, 232, 233, 234, 235, 236, 237, 238, 239, 240, 241, 242, 243, 244, 245, 246, 247, 248, 249, 250, 251, 252, 253, 254, 255, 256, 257, 258, 259, 260, 261, 262, 263, 264, 265, 266, 267, 268, 269, 270, 271, 272, 273, 274, 275, 276, 277, 278, 279, 280, 281, 282, 283, 284, 285, 286, 287, 288, 289, 290, 291, 292, 293, 294, 295, 296, 297, 298, 299, 300, 301, 302, 303, 304, 305, 306, 307, 308, 309, 310, 311, 312, 313, 314, 315, 316, 317, 318, 319, 320, 321, 322, 323, 324, 325, 326, 327, 328, 329, 330, 331, 332, 333, 334, 335, 336, 337, 338, 339, 340, 341, 342, 343, 344, 345, 346, 347, 348, 349, 350, 351, 352, 353, 354, 355, 356, 357, 358, 359, 360, 361, 362, 363, 364, 365, 366, 367, 368, 369, 370, 371, 372, 373, 374, 375, 376, 377, 378, 379, 380, 381, 382, 383, 384, 385, 386, 387, 388, 389, 390, 391, 392, 393, 394, 395, 396, 397, 398, 399, 400, 401, 402, 403, 404, 405, 406, 407, 408, 409, 410, 411, 412, 413, 414, 415, 416, 417, 418, 419, 420, 421, 422, 423, 424, 425, 426, 427, 428, 429, 430, 431, 432, 433, 434, 435, 436, 437, 438, 439, 440, 441, 442, 443, 444, 445, 446, 447, 448, 449, 450, 451, 452, 453, 454, 455, 456, 457, 458, 459, 460, 461, 462, 463, 464, 465, 466, 467, 468, 469, 470, 471, 472, 473, 474, 475, 476, 477, 478, 479, 480, 481, 482]\n",
            "{'wow': 0, 'loved': 1, 'this': 2, 'place': 3, 'crust': 4, 'is': 5, 'not': 6, 'good': 7, 'tasty': 8, 'and': 9, 'the': 10, 'texture': 11, 'was': 12, 'just': 13, 'nasty': 14, 'stopped': 15, 'by': 16, 'during': 17, 'late': 18, 'may': 19, 'bank': 20, 'holiday': 21, 'off': 22, 'rick': 23, 'steve': 24, 'recommendation': 25, 'it': 26, 'selection': 27, 'on': 28, 'menu': 29, 'great': 30, 'so': 31, 'were': 32, 'prices': 33, 'now': 34, 'i': 35, 'am': 36, 'getting': 37, 'angry': 38, 'want': 39, 'my': 40, 'damn': 41, 'pho': 42, 'honeslty': 43, 'didnt': 44, 'taste': 45, 'that': 46, 'fresh': 47, 'potatoes': 48, 'like': 49, 'rubber': 50, 'you': 51, 'could': 52, 'tell': 53, 'they': 54, 'had': 55, 'been': 56, 'made': 57, 'up': 58, 'ahead': 59, 'of': 60, 'time': 61, 'being': 62, 'kept': 63, 'under': 64, 'a': 65, 'warmer': 66, 'fries': 67, 'too': 68, 'touch': 69, 'service': 70, 'very': 71, 'prompt': 72, 'would': 73, 'go': 74, 'back': 75, 'cashier': 76, 'no': 77, 'care': 78, 'what': 79, 'ever': 80, 'to': 81, 'say': 82, 'still': 83, 'ended': 84, 'wayyy': 85, 'overpriced': 86, 'tried': 87, 'cape': 88, 'cod': 89, 'ravoli': 90, 'chicken': 91, 'with': 92, 'cranberrymmmm': 93, 'disgusted': 94, 'because': 95, 'pretty': 96, 'sure': 97, 'human': 98, 'hair': 99, 'shocked': 100, 'signs': 101, 'indicate': 102, 'cash': 103, 'only': 104, 'highly': 105, 'recommended': 106, 'waitress': 107, 'little': 108, 'slow': 109, 'in': 110, 'worth': 111, 'your': 112, 'let': 113, 'alone': 114, 'vegas': 115, 'did': 116, 'at': 117, 'all': 118, 'burrittos': 119, 'blah': 120, 'food': 121, 'amazing': 122, 'also': 123, 'cute': 124, 'less': 125, 'interior': 126, 'beautiful': 127, 'performed': 128, 'thats': 129, 'rightthe': 130, 'red': 131, 'velvet': 132, 'cakeohhh': 133, 'stuff': 134, 'name': 135, 'hole': 136, 'wall': 137, 'has': 138, 'mexican': 139, 'street': 140, 'tacos': 141, 'friendly': 142, 'staff': 143, 'took': 144, 'an': 145, 'hour': 146, 'get': 147, 'our': 148, '4': 149, 'tables': 150, 'restaurant': 151, 'luke': 152, 'warm': 153, 'sever': 154, 'running': 155, 'around': 156, 'he': 157, 'totally': 158, 'overwhelmed': 159, 'worst': 160, 'salmon': 161, 'sashimi': 162, 'there': 163, 'are': 164, 'combos': 165, 'burger': 166, 'beer': 167, 'for': 168, '23': 169, 'which': 170, 'decent': 171, 'deal': 172, 'final': 173, 'blow': 174, 'found': 175, 'accident': 176, 'be': 177, 'happier': 178, 'seems': 179, 'quick': 180, 'grab': 181, 'bite': 182, 'some': 183, 'familiar': 184, 'pub': 185, 'but': 186, 'do': 187, 'yourself': 188, 'favor': 189, 'look': 190, 'elsewhere': 191, 'overall': 192, 'lot': 193, 'redeeming': 194, 'quality': 195, 'inexpensive': 196, 'ample': 197, 'portions': 198, 'poor': 199, 'waiter': 200, 'me': 201, 'feel': 202, 'stupid': 203, 'every': 204, 'came': 205, 'table': 206, 'first': 207, 'visit': 208, 'hiro': 209, 'delight': 210, 'sucks': 211, 'shrimp': 212, 'tender': 213, 'moist': 214, 'enough': 215, 'drag': 216, 'into': 217, 'establishment': 218, 'again': 219, 'hard': 220, 'judge': 221, 'whether': 222, 'these': 223, 'sides': 224, 'we': 225, 'grossed': 226, 'out': 227, 'melted': 228, 'styrofoam': 229, 'eat': 230, 'fear': 231, 'sick': 232, 'positive': 233, 'note': 234, 'server': 235, 'attentive': 236, 'provided': 237, 'frozen': 238, 'pucks': 239, 'disgust': 240, 'people': 241, 'behind': 242, 'register': 243, 'thing': 244, 'prime': 245, 'rib': 246, 'dessert': 247, 'section': 248, 'its': 249, 'bad': 250, 'generic': 251, 'beef': 252, 'cooked': 253, 'right': 254, 'if': 255, 'sandwich': 256, 'any': 257, 'firehouse': 258, 'side': 259, 'greek': 260, 'salad': 261, 'dressing': 262, 'pita': 263, 'hummus': 264, 'refreshing': 265, 'ordered': 266, 'duck': 267, 'rare': 268, 'pink': 269, 'inside': 270, 'nice': 271, 'char': 272, 'outside': 273, 'after': 274, 'us': 275, 'when': 276, 'realized': 277, 'husband': 278, 'left': 279, 'his': 280, 'sunglasses': 281, 'their': 282, 'chow': 283, 'mein': 284, 'have': 285, 'horrible': 286, 'attitudes': 287, 'towards': 288, 'customers': 289, 'talk': 290, 'down': 291, 'each': 292, 'one': 293, 'dont': 294, 'enjoy': 295, 'portion': 296, 'huge': 297, 'itfriendly': 298, 'servers': 299, 'wonderful': 300, 'imaginative': 301, 'heart': 302, 'attack': 303, 'grill': 304, 'downtown': 305, 'absolutely': 306, 'flatlined': 307, 'excuse': 308, 'much': 309, 'seafood': 310, '5': 311, 'strings': 312, 'pasta': 313, 'bottom': 314, 'amount': 315, 'sauce': 316, 'over': 317, 'power': 318, 'scallop': 319, 'perfectly': 320, 'ripped': 321, 'banana': 322, 'petrified': 323, 'tasteless': 324, 'least': 325, 'think': 326, 'refill': 327, 'water': 328, 'before': 329, 'struggle': 330, 'wave': 331, '10': 332, 'minutes': 333, 'receives': 334, 'stars': 335, 'appetizers': 336, 'cocktails': 337, 'handmade': 338, 'delicious': 339, 'wed': 340, 'definitely': 341, 'here': 342, 'glad': 343, 'give': 344, 'military': 345, 'discount': 346, 'always': 347, 'dos': 348, 'gringos': 349, 'updatewent': 350, 'second': 351, 'as': 352, 'got': 353, 'apparently': 354, 'never': 355, 'heard': 356, 'salt': 357, 'batter': 358, 'fish': 359, 'chewy': 360, 'way': 361, 'finish': 362, 'included': 363, 'tastings': 364, '2': 365, 'drinks': 366, 'jeff': 367, 'went': 368, 'above': 369, 'beyond': 370, 'expected': 371, 'meh': 372, '30': 373, 'min': 374, 'milkshake': 375, 'nothing': 376, 'more': 377, 'than': 378, 'chocolate': 379, 'milk': 380, 'guess': 381, 'should': 382, 'known': 383, 'suck': 384, 'excalibur': 385, 'use': 386, 'common': 387, 'sense': 388, 'dish': 389, 'quite': 390, 'appalling': 391, 'value': 392, 'well': 393, 'times': 394, 'customer': 395, 'sweet': 396, 'potato': 397, 'seasoned': 398, 'today': 399, 'ive': 400, 'lunch': 401, 'buffet': 402, 'cheated': 403, 'wasting': 404, 'eating': 405, 'opportunity': 406, 'going': 407, 'rice': 408, 'company': 409, 'coming': 410, 'experiencing': 411, 'underwhelming': 412, 'relationship': 413, 'where': 414, 'both': 415, 'parties': 416, 'cant': 417, 'wait': 418, 'other': 419, 'person': 420, 'ask': 421, 'break': 422, 'walked': 423, 'smelled': 424, 'old': 425, 'grease': 426, 'trap': 427, 'others': 428, 'turkey': 429, 'roast': 430, 'bland': 431, 'pan': 432, 'cakes': 433, 'everyone': 434, 'raving': 435, 'about': 436, 'sugary': 437, 'disaster': 438, 'tailored': 439, 'palate': 440, 'six': 441, 'year': 442, 'love': 443, 'spring': 444, 'rolls': 445, 'oh': 446, 'yummy': 447, 'try': 448, 'meat': 449, 'ratio': 450, 'tenders': 451, 'unsatisfying': 452, 'omelets': 453, 'die': 454, 'everything': 455, 'summary': 456, 'largely': 457, 'disappointing': 458, 'dining': 459, 'experience': 460, 'really': 461, 'sexy': 462, 'party': 463, 'mouth': 464, 'youre': 465, 'outrageously': 466, 'flirting': 467, 'hottest': 468, 'rock': 469, 'casino': 470, 'will': 471, 'step': 472, 'forward': 473, 'best': 474, 'breakfast': 475, 'bye': 476, 'tip': 477, 'lady': 478, 'arrived': 479, 'quickly': 480, 'cafe': 481, 'serves': 482}\n"
          ],
          "name": "stdout"
        }
      ]
    },
    {
      "cell_type": "markdown",
      "metadata": {
        "id": "4HrIIKHqP_OM",
        "colab_type": "text"
      },
      "source": [
        "Now define your `make_cbow_data()` function. It should take `text` (text of a single review) as an argument, and `window_size` (the number of words to the left or right of the focal word) as an argument. It may also take other arguments, depending on how you define it. It should return a list of tuples as described above."
      ]
    },
    {
      "cell_type": "code",
      "metadata": {
        "id": "9smXrPRNkSCj",
        "colab_type": "code",
        "colab": {}
      },
      "source": [
        "import torch\n",
        "import numpy as np"
      ],
      "execution_count": 0,
      "outputs": []
    },
    {
      "cell_type": "code",
      "metadata": {
        "id": "qYEwVRlAY2UY",
        "colab_type": "code",
        "colab": {}
      },
      "source": [
        "def make_cbow_data(text, window_size):\n",
        "  wordlist=list()\n",
        "  for i in range(window_size, len(text)-window_size):\n",
        "    x=[]\n",
        "    context=[]\n",
        "    target=[]\n",
        "    y=[word_to_index[text[i]]]\n",
        "    target.append(y)\n",
        "\n",
        "    x_index = list(range(i-window_size, i+window_size+1))\n",
        "    x_index.remove(i)\n",
        "    \n",
        "    for j in x_index:\n",
        "      x.append(word_to_index[text[j]])\n",
        "    context.append(x)\n",
        "\n",
        "    wordlist.append((torch.tensor(x, dtype=torch.long), torch.tensor(y, dtype=torch.long)))\n",
        "  return wordlist"
      ],
      "execution_count": 0,
      "outputs": []
    },
    {
      "cell_type": "markdown",
      "metadata": {
        "id": "_6kWcdS4QZzM",
        "colab_type": "text"
      },
      "source": [
        "Now define your CBOW model class."
      ]
    },
    {
      "cell_type": "code",
      "metadata": {
        "id": "V-sMXIE6heYv",
        "colab_type": "code",
        "colab": {}
      },
      "source": [
        "# Define your CBOW model here\n",
        "class CBOW(torch.nn.Module):\n",
        "  def __init__(self, vocab_size, embed_dim, window_size, hidden_dim):\n",
        "    super(CBOW, self).__init__()\n",
        "    self.embedding = torch.nn.Embedding(vocab_size, embed_dim)\n",
        "    self.fc1 = torch.nn.Linear(2*window_size*embed_dim, hidden_dim)\n",
        "    self.fc2 = torch.nn.Linear(hidden_dim, vocab_size)\n",
        "\n",
        "  def forward(self, x):\n",
        "    x = self.embedding(x)\n",
        "    x = x.view(1, -1)\n",
        "    x = self.fc1(x)\n",
        "    x = torch.nn.functional.relu(x, inplace=True)\n",
        "    x = self.fc2(x)\n",
        "    return x "
      ],
      "execution_count": 0,
      "outputs": []
    },
    {
      "cell_type": "markdown",
      "metadata": {
        "colab_type": "text",
        "id": "M1gYhtWBx88h"
      },
      "source": [
        "## Train the CBOW model"
      ]
    },
    {
      "cell_type": "markdown",
      "metadata": {
        "colab_type": "text",
        "id": "LuWSX_ZGnPIG"
      },
      "source": [
        "Now that your model class is written, you must create an instance of the model and train it using the loss function `torch.nn.CrossEntropyLoss` on the output of `fc2` and `y` (the labels).\n",
        "\n",
        "Train your CBOW model for 300 epochs with `embed_dim`= 100, `window_size`=2, and `hidden_dim`=30. \n",
        "- Do not split the data into training and test sets (we will not be evaluating the performance of this model). \n",
        "- Use the SGD optimizer with learning rate = 0.001.\n",
        "- Append the loss at every epoch to a list (return the list if you use a function to fit your model), so that we can plot it later. "
      ]
    },
    {
      "cell_type": "code",
      "metadata": {
        "id": "35ybUlZs14Ud",
        "colab_type": "code",
        "outputId": "17183f27-c87f-4d57-9c78-64ec23a78d6d",
        "colab": {
          "base_uri": "https://localhost:8080/",
          "height": 102
        }
      },
      "source": [
        "# Parameters\n",
        "VOCAB_SIZE = len(vocab)\n",
        "EMBED_DIM = 100\n",
        "WINDOW_SIZE = 2\n",
        "HIDDEN_DIM = 30\n",
        "N_EPOCHS = 300\n",
        "\n",
        "# Train your CBOW model here\n",
        "CBOW = CBOW(VOCAB_SIZE, EMBED_DIM, WINDOW_SIZE, HIDDEN_DIM)#model\n",
        "CBOW = CBOW.cuda()\n",
        "loss_function = torch.nn.CrossEntropyLoss()\n",
        "optimizer = torch.optim.SGD(CBOW.parameters(), lr=0.001)\n",
        "CBOW.train()"
      ],
      "execution_count": 8,
      "outputs": [
        {
          "output_type": "execute_result",
          "data": {
            "text/plain": [
              "CBOW(\n",
              "  (embedding): Embedding(483, 100)\n",
              "  (fc1): Linear(in_features=400, out_features=30, bias=True)\n",
              "  (fc2): Linear(in_features=30, out_features=483, bias=True)\n",
              ")"
            ]
          },
          "metadata": {
            "tags": []
          },
          "execution_count": 8
        }
      ]
    },
    {
      "cell_type": "code",
      "metadata": {
        "id": "er-f_RKwHHyk",
        "colab_type": "code",
        "colab": {}
      },
      "source": [
        "#Set up list of traind and data \n",
        "traind=[]\n",
        "for i in cleaned_text:\n",
        "  temp = make_cbow_data(i, WINDOW_SIZE)\n",
        "  traind.append(temp)\n",
        "  \n",
        "data=[]\n",
        "for i in traind:\n",
        "  temp=[]\n",
        "  temp=i\n",
        "  for j in temp:\n",
        "    data.append(j)"
      ],
      "execution_count": 0,
      "outputs": []
    },
    {
      "cell_type": "code",
      "metadata": {
        "id": "2nIqG-NkHK2-",
        "colab_type": "code",
        "colab": {}
      },
      "source": [
        "#Losses\n",
        "losses=[]\n",
        "for epoch in range(300):\n",
        "  running_loss=0\n",
        "  for X, y in data:#X is feature, y is label\n",
        "    optimizer.zero_grad()\n",
        "    X = X.cuda()\n",
        "    y = y.cuda()\n",
        "    outputs=CBOW(X)\n",
        "    loss=loss_function(outputs, y)\n",
        "    loss.backward()\n",
        "    optimizer.step()\n",
        "    running_loss += loss.item() \n",
        "  losses.append(running_loss/len(data))"
      ],
      "execution_count": 0,
      "outputs": []
    },
    {
      "cell_type": "markdown",
      "metadata": {
        "colab_type": "text",
        "id": "lE_aC7oJx2xC"
      },
      "source": [
        "## Plot losses by epochs (x-axis: epoch, y-axis: loss)"
      ]
    },
    {
      "cell_type": "code",
      "metadata": {
        "id": "xdAEHlvX14Ur",
        "colab_type": "code",
        "outputId": "615cac82-7768-4da7-a6af-add76c164018",
        "colab": {
          "base_uri": "https://localhost:8080/",
          "height": 295
        }
      },
      "source": [
        "# Insert your code here to plot losses vs epoch\n",
        "import matplotlib.pyplot as plt\n",
        "epoch=list(range(1, N_EPOCHS+1))\n",
        "plt.plot(epoch, losses);\n",
        "plt.title('Plot of losses by epochs')\n",
        "plt.xlabel('epoch');\n",
        "plt.ylabel('loss');"
      ],
      "execution_count": 11,
      "outputs": [
        {
          "output_type": "display_data",
          "data": {
            "image/png": "[encoded data removed]",
            "text/plain": [
              "<Figure size 432x288 with 1 Axes>"
            ]
          },
          "metadata": {
            "tags": []
          }
        }
      ]
    },
    {
      "cell_type": "markdown",
      "metadata": {
        "colab_type": "text",
        "id": "GWj-u7YJFxF7"
      },
      "source": [
        "## Print five most similar words with the word \"delicious\""
      ]
    },
    {
      "cell_type": "markdown",
      "metadata": {
        "colab_type": "text",
        "id": "vvxTFjD7GCDc"
      },
      "source": [
        "The whole point of traiing an embedding model is to get an embedding vector for each word. The idea is that the vector somehow captures the meaning of the word. This is useful because data scientists often face scenarios where they must derive meaning from unstructured text data.\n",
        "\n",
        "Once your model has been trained, you can access the embedding vectors through `model.embedding.weight.data`. You can convert these vectors to a numpy matrix or numpy arrays if needed.\n",
        "\n",
        "Find the five most similar words with the word \"delicious\" by calculating cosine similarity between the embedding vector of \"delicious\" and the embedding vectors of all other words in the vocabulary. \n",
        "\n",
        "Hint: cosine similarity is a common metric so you should be able to find one that you can use in an existing library. "
      ]
    },
    {
      "cell_type": "markdown",
      "metadata": {
        "id": "UJrmuZEE5ETn",
        "colab_type": "text"
      },
      "source": [
        "While the model learns embedding vectors (that best predict the focal word from its contexts), the vectors that it learns don't seem to truly capture the meaning of words. However, this is mainly due to the small size of our training data. Google trained a word2vec model based on large-scale data (about 100 billion words), and this model captures similarity between words well. You can find the pretrained model at https://code.google.com/archive/p/word2vec/."
      ]
    },
    {
      "cell_type": "code",
      "metadata": {
        "colab_type": "code",
        "id": "t-V62CpBai70",
        "outputId": "b5d2356e-895c-4916-f366-4de22ed42527",
        "colab": {
          "base_uri": "https://localhost:8080/",
          "height": 102
        }
      },
      "source": [
        "# Insert your code here\n",
        "from sklearn.metrics.pairwise import cosine_similarity\n",
        "def word_similarity(feature1, feature2):\n",
        "  return cosine_similarity(feature1.reshape(1,-1), feature2.reshape(1,-1))[0][0]\n",
        "\n",
        "embed = CBOW.embedding.weight.data.cpu().numpy()\n",
        "v1 = embed[word_to_index['delicious']]\n",
        "similarity = []\n",
        "for v2 in embed:\n",
        "  similarity.append(word_similarity(v1,v2))\n",
        "  \n",
        "cos_index = list(range(len(similarity)))\n",
        "cos_similarity = dict(zip(cos_index, similarity))\n",
        "top5=sorted(cos_similarity.items(), key=lambda item: item[1], reverse=True)[1:6]\n",
        "\n",
        "for i in list(range(5)):\n",
        "  word_index = top5[i][0]\n",
        "  print('One of the most similar words with the word \"delicious\" is:', list(word_to_index.keys())[list(word_to_index.values()).index(word_index)])\n"
      ],
      "execution_count": 13,
      "outputs": [
        {
          "output_type": "stream",
          "text": [
            "One of the most similar words with the word \"delicious\" is: touch\n",
            "One of the most similar words with the word \"delicious\" is: fries\n",
            "One of the most similar words with the word \"delicious\" is: at\n",
            "One of the most similar words with the word \"delicious\" is: dont\n",
            "One of the most similar words with the word \"delicious\" is: would\n"
          ],
          "name": "stdout"
        }
      ]
    }
  ]
}