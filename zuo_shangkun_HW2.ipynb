{
  "nbformat": 4,
  "nbformat_minor": 0,
  "metadata": {
    "colab": {
      "name": "zuo_shangkun_HW2.ipynb",
      "provenance": [],
      "private_outputs": true,
      "collapsed_sections": []
    },
    "kernelspec": {
      "display_name": "Python 3",
      "language": "python",
      "name": "python3"
    },
    "language_info": {
      "codemirror_mode": {
        "name": "ipython",
        "version": 3
      },
      "file_extension": ".py",
      "mimetype": "text/x-python",
      "name": "python",
      "nbconvert_exporter": "python",
      "pygments_lexer": "ipython3",
      "version": "3.7.3"
    }
  },
  "cells": [
    {
      "cell_type": "markdown",
      "metadata": {
        "id": "LGuoAWK1o_2k",
        "colab_type": "text"
      },
      "source": [
        "# HW 02 - Use pandas and sklearn to understand the Titanic data"
      ]
    },
    {
      "cell_type": "markdown",
      "metadata": {
        "colab_type": "text",
        "id": "ZKG2u9bbBDDb"
      },
      "source": [
        "<font color=blue size=4>\n",
        "Before you submit this assignment, please carefully read these submission instructions. You must name this .ipynb file:\n",
        "<br><br>\n",
        "yourlastname_yourfirstname_HW2.ipynb\n",
        "<br><br>\n",
        "You must turn in this assignment by uploading the \n",
        ".ipynb file to the assignment on questrom tools. You will also need to print out a hard copy of this notebook (File->Print from colab) with the output from running all the code cells, and hand it in on the class following the due date. Do not email me the file.\n",
        "<br><br>\n",
        "Points will be deducted for improper submission!\n",
        "</font>\n",
        "\n",
        "For this Homework Assignment, we will be applying our knowledge of Pandas and Sklearn to an interesting dataset about the survival of passengers on the Titanic.\n",
        "\n",
        "\n",
        "The dataset describes those onboard the titanic that survived and did not, in terms of many of their attributes, such as:\n",
        "- the passenger's ticket class (pclass, class)\n",
        "- sex and age\n",
        "- the fare they paid for their ticket (fare)\n",
        "- the town they embarked from (embark_town, embarked)\n",
        "- whether they had siblings on board (sibsp)\n",
        "- if they were a parent, the number of chidron on board (or if they are a child, the number of parents on board) (parch) \n",
        "\n",
        "Unlike the example in class, we won't be starting with a cleaned dataset, but with the full dataset that is available via the seaborn package. \n",
        "\n",
        "Run the code cell below  to load the dataset:"
      ]
    },
    {
      "cell_type": "code",
      "metadata": {
        "colab_type": "code",
        "id": "aO_-tUAaBDCu",
        "colab": {}
      },
      "source": [
        "import pandas as pd\n",
        "import numpy as np\n",
        "import seaborn as sns\n",
        "titanic=sns.load_dataset('titanic')\n",
        "titanic.head()"
      ],
      "execution_count": 0,
      "outputs": []
    },
    {
      "cell_type": "code",
      "metadata": {
        "id": "W4lhdHk_de3J",
        "colab_type": "code",
        "colab": {}
      },
      "source": [
        "titanic.shape"
      ],
      "execution_count": 0,
      "outputs": []
    },
    {
      "cell_type": "markdown",
      "metadata": {
        "id": "zKX9s06FA9lS",
        "colab_type": "text"
      },
      "source": [
        "Q: Before analyzing the data, remove rows where  age is NaN."
      ]
    },
    {
      "cell_type": "code",
      "metadata": {
        "id": "pP32mRnLA9lT",
        "colab_type": "code",
        "colab": {}
      },
      "source": [
        "# insert your code here\n",
        "titanic.isnull().sum()"
      ],
      "execution_count": 0,
      "outputs": []
    },
    {
      "cell_type": "code",
      "metadata": {
        "id": "xgqLiFeddTWf",
        "colab_type": "code",
        "colab": {}
      },
      "source": [
        "titanic.dropna(subset=['age'], inplace=True)"
      ],
      "execution_count": 0,
      "outputs": []
    },
    {
      "cell_type": "code",
      "metadata": {
        "id": "diYYrG3aHI3_",
        "colab_type": "code",
        "colab": {}
      },
      "source": [
        "titanic.isnull().sum()"
      ],
      "execution_count": 0,
      "outputs": []
    },
    {
      "cell_type": "markdown",
      "metadata": {
        "id": "-8CSPHwCA9lX",
        "colab_type": "text"
      },
      "source": [
        "Q: Make a new column named `adult` thats is equal to 0  when \"age\" is less than 18 and equal to 1 otherwise."
      ]
    },
    {
      "cell_type": "code",
      "metadata": {
        "id": "zcc9QLEyA9lY",
        "colab_type": "code",
        "colab": {}
      },
      "source": [
        "# insert your code here\n",
        "titanic['adult']=titanic['age'].apply(lambda x: 0 if x < 18 else 1)"
      ],
      "execution_count": 0,
      "outputs": []
    },
    {
      "cell_type": "markdown",
      "metadata": {
        "id": "QYd_x4bFA9lb",
        "colab_type": "text"
      },
      "source": [
        "Q: Convert \"female\" to 0 and \"male\" to 1 in the \"sex\" column"
      ]
    },
    {
      "cell_type": "code",
      "metadata": {
        "id": "YLFfgJKCA9lc",
        "colab_type": "code",
        "colab": {}
      },
      "source": [
        "# insert your code here\n",
        "titanic['sex'].replace({'female':0,'male':1},inplace=True)"
      ],
      "execution_count": 0,
      "outputs": []
    },
    {
      "cell_type": "code",
      "metadata": {
        "id": "2BgczEbatGcO",
        "colab_type": "code",
        "colab": {}
      },
      "source": [
        "titanic.head()"
      ],
      "execution_count": 0,
      "outputs": []
    },
    {
      "cell_type": "markdown",
      "metadata": {
        "id": "IZSNlFF2A9lg",
        "colab_type": "text"
      },
      "source": [
        "The dataset is now cleaned and ready for you to run some analysis.\n",
        "\n",
        "Print the shape of the cleaned data. **Hereafter, all answers should be drawn from the cleaned data.**"
      ]
    },
    {
      "cell_type": "code",
      "metadata": {
        "id": "xrVR7iAhA9lh",
        "colab_type": "code",
        "colab": {}
      },
      "source": [
        "# insert your code here\n",
        "titanic.shape"
      ],
      "execution_count": 0,
      "outputs": []
    },
    {
      "cell_type": "markdown",
      "metadata": {
        "colab_type": "text",
        "id": "Ng0KBM6ZBDCZ"
      },
      "source": [
        "The goal of this homework is to build classifiers that predict whether a passenger is alive, based on data features.\n",
        "\n",
        "Q: Determine the mean survivors by `sex` and `adult` (simultaneously). Your answer should return a 2x2 dataframe with the rows indexed by `sex` and two columns (for `adult`=0 and `adult`=1). You should not use any explicit loops or `apply` to accomplish this:"
      ]
    },
    {
      "cell_type": "code",
      "metadata": {
        "id": "D6UkL0WfA9lm",
        "colab_type": "code",
        "colab": {}
      },
      "source": [
        "# insert your code here\n",
        "titanic.groupby(['sex','adult']).survived.mean().unstack()"
      ],
      "execution_count": 0,
      "outputs": []
    },
    {
      "cell_type": "markdown",
      "metadata": {
        "id": "RBecFk1iA9lp",
        "colab_type": "text"
      },
      "source": [
        "You can see significant differences in survival rate by sex and age, indicating classifiers built with \"sex\" and \"adult\" columns would work well. "
      ]
    },
    {
      "cell_type": "markdown",
      "metadata": {
        "id": "EDU4whpiA9lq",
        "colab_type": "text"
      },
      "source": [
        "Q: Define a new dataframe `X` that contains the `sex` and `adult` columns of the data and a pandas series `y` that is equal to the `survived` column."
      ]
    },
    {
      "cell_type": "code",
      "metadata": {
        "id": "GmYzn9XJA9lr",
        "colab_type": "code",
        "colab": {}
      },
      "source": [
        "# insert your code here\n",
        "X=pd.DataFrame(titanic, columns=['sex','adult'])\n",
        "print(X)\n",
        "y=pd.Series(titanic['survived'])\n",
        "print(y)"
      ],
      "execution_count": 0,
      "outputs": []
    },
    {
      "cell_type": "markdown",
      "metadata": {
        "id": "jyHt9xkCA9lu",
        "colab_type": "text"
      },
      "source": [
        "Q: Split `X` and `y` into train (80%) and test (20%) sets. Assign `random_state=0` when you split."
      ]
    },
    {
      "cell_type": "code",
      "metadata": {
        "id": "MMTXe1cbA9lw",
        "colab_type": "code",
        "colab": {}
      },
      "source": [
        "# insert your code here\n",
        "from sklearn.model_selection import train_test_split\n",
        "# Let 20% of the data to be a test set\n",
        "X_train, X_test, y_train, y_test = train_test_split(X, y, test_size=0.20, random_state=0)"
      ],
      "execution_count": 0,
      "outputs": []
    },
    {
      "cell_type": "markdown",
      "metadata": {
        "id": "8Kt-Cfe9A9lz",
        "colab_type": "text"
      },
      "source": [
        "**Now, by referring to the official scikit-learn documentation, build two classifiers using K Nearest Neighbors (KNN) and Naive Bayes.**"
      ]
    },
    {
      "cell_type": "markdown",
      "metadata": {
        "id": "ibAxe2SsA9l0",
        "colab_type": "text"
      },
      "source": [
        "Q: Build a KNN classifier with n_neighbors=2 and fit it to the training data"
      ]
    },
    {
      "cell_type": "code",
      "metadata": {
        "id": "twokszFfA9l2",
        "colab_type": "code",
        "colab": {}
      },
      "source": [
        "# insert your code here\n",
        "from sklearn.neighbors import KNeighborsClassifier\n",
        "knn=KNeighborsClassifier(n_neighbors = 2) \n",
        "knn.fit(X_train, y_train)"
      ],
      "execution_count": 0,
      "outputs": []
    },
    {
      "cell_type": "markdown",
      "metadata": {
        "id": "a2ta9JNVA9l5",
        "colab_type": "text"
      },
      "source": [
        "Q. What is the accuracy_score of the KNN classifier with n_neighbors=2? Print it out."
      ]
    },
    {
      "cell_type": "code",
      "metadata": {
        "id": "PvlEcBE-A9l6",
        "colab_type": "code",
        "colab": {}
      },
      "source": [
        "# insert your code here\n",
        "from sklearn.metrics import accuracy_score\n",
        "y_pred = knn.predict(X_test)\n",
        "print('{:.2%}\\n'.format(accuracy_score(y_test, y_pred)))"
      ],
      "execution_count": 0,
      "outputs": []
    },
    {
      "cell_type": "markdown",
      "metadata": {
        "id": "zKPsXdYfanFm",
        "colab_type": "text"
      },
      "source": [
        "The accuracy we obtained is from just one random split of the data. Instead, we can use **cross-fold validation** by using the `cross_val_score` method from `sklearn.model_selection`. Import this and refer to the documentation to get the scores from a cross-fold validation with `cv=5` and the default `scoring` (i.e., don't change this parameter). Note that we do not need to split the data into training and test, but pass the entire features and target to `cross_val_score`. Print the mean and standard deviation of the scores: "
      ]
    },
    {
      "cell_type": "code",
      "metadata": {
        "id": "k4RMDZdObWO4",
        "colab_type": "code",
        "colab": {}
      },
      "source": [
        "# insert your code here\n",
        "from sklearn.model_selection import cross_val_score\n",
        "#create a new KNN model\n",
        "knn_cv = KNeighborsClassifier(n_neighbors = 2) \n",
        "#train model with cv of 5\n",
        "knn_cv_scores = cross_val_score(knn_cv, X, y, cv=5)\n",
        "#print the mean and standard deviation of the scores\n",
        "print('knn_cv_scores mean:{}'.format(knn_cv_scores.mean()))\n",
        "print('knn_cv_scores standard deviation:{}'.format(knn_cv_scores.std()))"
      ],
      "execution_count": 0,
      "outputs": []
    },
    {
      "cell_type": "markdown",
      "metadata": {
        "id": "AZ0JlO5BA9l9",
        "colab_type": "text"
      },
      "source": [
        "Q: Now build a Naive Bayes classifier with `GaussianNB` (from `sklearn.naive_bayes`) by referring to the documentation. Use cross-fold validation as before and print out the mean and standard deviation of the scores:"
      ]
    },
    {
      "cell_type": "code",
      "metadata": {
        "colab_type": "code",
        "id": "HPdagFjyBDBS",
        "colab": {}
      },
      "source": [
        "# insert your code here\n",
        "from sklearn.naive_bayes import GaussianNB\n",
        "nb_cv=GaussianNB()\n",
        "#train model with cv of 5\n",
        "nb_cv_scores = cross_val_score(nb_cv, X, y, cv=5)\n",
        "#print the mean and standard deviation of the scores\n",
        "print('nb_cv_scores mean:{}'.format(nb_cv_scores.mean()))\n",
        "print('nb_cv_scores standard deviation:{}'.format(nb_cv_scores.std()))"
      ],
      "execution_count": 0,
      "outputs": []
    },
    {
      "cell_type": "markdown",
      "metadata": {
        "id": "vQJfbafPA9mI",
        "colab_type": "text"
      },
      "source": [
        "Q: Which classifier has a higher mean score, the KNN classifier with n_neighbors=2 or the Naive Bayes classifier? Double click the text cell below and enter your answer."
      ]
    },
    {
      "cell_type": "markdown",
      "metadata": {
        "id": "zoGq67G2A9mK",
        "colab_type": "text"
      },
      "source": [
        "A. The Naive Bayes classifier has a higher mean score"
      ]
    }
  ]
}